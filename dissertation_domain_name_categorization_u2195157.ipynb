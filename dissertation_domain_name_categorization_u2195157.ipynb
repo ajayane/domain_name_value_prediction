{
  "cells": [
    {
      "cell_type": "markdown",
      "metadata": {
        "id": "hmzvkrk1Qw3z"
      },
      "source": [
        "#### Predicting Domain Name Categories with Feature-Engineered Input, Built-in NLP Models, and Supervised Machine Learning Algorithms"
      ]
    },
    {
      "cell_type": "code",
      "execution_count": 1,
      "metadata": {
        "colab": {
          "base_uri": "https://localhost:8080/"
        },
        "id": "ywMX1CboQw30",
        "outputId": "d4949619-ae59-4845-b9c2-e278b6b34fff"
      },
      "outputs": [
        {
          "name": "stderr",
          "output_type": "stream",
          "text": [
            "The system cannot find the path specified.\n",
            "openjdk version \"17.0.6\" 2023-01-17\n",
            "OpenJDK Runtime Environment Temurin-17.0.6+10 (build 17.0.6+10)\n",
            "OpenJDK 64-Bit Server VM Temurin-17.0.6+10 (build 17.0.6+10, mixed mode, sharing)\n"
          ]
        }
      ],
      "source": [
        "#importing os to set environment variable\n",
        "import os       \n",
        "def install_java():\n",
        "  !apt-get install -y openjdk-8-jdk-headless -qq > /dev/null      #install open-jdk\n",
        "  !java -version       #check java version\n",
        "install_java()"
      ]
    },
    {
      "cell_type": "code",
      "execution_count": 2,
      "metadata": {
        "id": "KQQbs62qQw31"
      },
      "outputs": [],
      "source": [
        "# #initilizing spark\n",
        "# import findspark as fs\n",
        "# from pyspark.sql import SparkSession\n",
        "# fs.init()"
      ]
    },
    {
      "cell_type": "code",
      "execution_count": 3,
      "metadata": {
        "id": "YZ1gLFbhQw32"
      },
      "outputs": [],
      "source": [
        "# #function to get or create spark singleton instance\n",
        "# def getSparkSessionInstance():\n",
        "#     if (\"sparkSessionSingletonInstance\" not in globals()):\n",
        "#         globals()[\"sparkSessionSingletonInstance\"] = SparkSession.builder.appName('u219').master(\"local[*]\").config(\"module\",\"dissertation\").getOrCreate()\n",
        "#     return globals()[\"sparkSessionSingletonInstance\"]"
      ]
    },
    {
      "cell_type": "code",
      "execution_count": 4,
      "metadata": {
        "id": "oWwp-t7FQw32"
      },
      "outputs": [],
      "source": [
        "# spark = getSparkSessionInstance()"
      ]
    },
    {
      "cell_type": "code",
      "execution_count": 5,
      "metadata": {
        "colab": {
          "base_uri": "https://localhost:8080/"
        },
        "id": "FlbhWEs8Tis6",
        "outputId": "25c52be8-2d01-4991-df27-a0c04ebabb09"
      },
      "outputs": [
        {
          "name": "stdout",
          "output_type": "stream",
          "text": [
            "Requirement already satisfied: wordninja in c:\\programdata\\anaconda3\\lib\\site-packages (2.0.0)\n"
          ]
        },
        {
          "name": "stderr",
          "output_type": "stream",
          "text": [
            "WARNING: Ignoring invalid distribution -oblib (c:\\programdata\\anaconda3\\lib\\site-packages)\n",
            "WARNING: Ignoring invalid distribution - (c:\\programdata\\anaconda3\\lib\\site-packages)\n",
            "WARNING: Ignoring invalid distribution -ackaging (c:\\programdata\\anaconda3\\lib\\site-packages)\n",
            "WARNING: Ignoring invalid distribution -oblib (c:\\programdata\\anaconda3\\lib\\site-packages)\n",
            "WARNING: Ignoring invalid distribution - (c:\\programdata\\anaconda3\\lib\\site-packages)\n",
            "WARNING: Ignoring invalid distribution -ackaging (c:\\programdata\\anaconda3\\lib\\site-packages)\n",
            "\n",
            "[notice] A new release of pip is available: 23.0.1 -> 23.1.2\n",
            "[notice] To update, run: python.exe -m pip install --upgrade pip\n"
          ]
        },
        {
          "name": "stdout",
          "output_type": "stream",
          "text": [
            "Requirement already satisfied: fasttext in c:\\programdata\\anaconda3\\lib\\site-packages (0.9.2)\n",
            "Requirement already satisfied: numpy in c:\\programdata\\anaconda3\\lib\\site-packages (from fasttext) (1.20.3)\n",
            "Requirement already satisfied: setuptools>=0.7.0 in c:\\users\\admin\\appdata\\roaming\\python\\python39\\site-packages (from fasttext) (67.6.0)\n",
            "Requirement already satisfied: pybind11>=2.2 in c:\\programdata\\anaconda3\\lib\\site-packages (from fasttext) (2.10.4)\n"
          ]
        },
        {
          "name": "stderr",
          "output_type": "stream",
          "text": [
            "WARNING: Ignoring invalid distribution -oblib (c:\\programdata\\anaconda3\\lib\\site-packages)\n",
            "WARNING: Ignoring invalid distribution - (c:\\programdata\\anaconda3\\lib\\site-packages)\n",
            "WARNING: Ignoring invalid distribution -ackaging (c:\\programdata\\anaconda3\\lib\\site-packages)\n",
            "WARNING: Ignoring invalid distribution -oblib (c:\\programdata\\anaconda3\\lib\\site-packages)\n",
            "WARNING: Ignoring invalid distribution - (c:\\programdata\\anaconda3\\lib\\site-packages)\n",
            "WARNING: Ignoring invalid distribution -ackaging (c:\\programdata\\anaconda3\\lib\\site-packages)\n",
            "\n",
            "[notice] A new release of pip is available: 23.0.1 -> 23.1.2\n",
            "[notice] To update, run: python.exe -m pip install --upgrade pip\n"
          ]
        },
        {
          "name": "stdout",
          "output_type": "stream",
          "text": [
            "Requirement already satisfied: missingno in c:\\programdata\\anaconda3\\lib\\site-packages (0.5.2)\n",
            "Requirement already satisfied: scipy in c:\\programdata\\anaconda3\\lib\\site-packages (from missingno) (1.7.1)\n",
            "Requirement already satisfied: numpy in c:\\programdata\\anaconda3\\lib\\site-packages (from missingno) (1.20.3)\n",
            "Requirement already satisfied: matplotlib in c:\\programdata\\anaconda3\\lib\\site-packages (from missingno) (3.4.3)\n",
            "Requirement already satisfied: seaborn in c:\\programdata\\anaconda3\\lib\\site-packages (from missingno) (0.11.2)\n",
            "Requirement already satisfied: pyparsing>=2.2.1 in c:\\programdata\\anaconda3\\lib\\site-packages (from matplotlib->missingno) (3.0.4)\n",
            "Requirement already satisfied: pillow>=6.2.0 in c:\\programdata\\anaconda3\\lib\\site-packages (from matplotlib->missingno) (8.4.0)\n",
            "Requirement already satisfied: cycler>=0.10 in c:\\programdata\\anaconda3\\lib\\site-packages (from matplotlib->missingno) (0.10.0)\n",
            "Requirement already satisfied: kiwisolver>=1.0.1 in c:\\programdata\\anaconda3\\lib\\site-packages (from matplotlib->missingno) (1.3.1)\n",
            "Requirement already satisfied: python-dateutil>=2.7 in c:\\programdata\\anaconda3\\lib\\site-packages (from matplotlib->missingno) (2.8.2)\n",
            "Requirement already satisfied: pandas>=0.23 in c:\\programdata\\anaconda3\\lib\\site-packages (from seaborn->missingno) (1.3.4)\n",
            "Requirement already satisfied: six in c:\\programdata\\anaconda3\\lib\\site-packages (from cycler>=0.10->matplotlib->missingno) (1.16.0)\n",
            "Requirement already satisfied: pytz>=2017.3 in c:\\programdata\\anaconda3\\lib\\site-packages (from pandas>=0.23->seaborn->missingno) (2021.3)\n"
          ]
        },
        {
          "name": "stderr",
          "output_type": "stream",
          "text": [
            "WARNING: Ignoring invalid distribution -oblib (c:\\programdata\\anaconda3\\lib\\site-packages)\n",
            "WARNING: Ignoring invalid distribution - (c:\\programdata\\anaconda3\\lib\\site-packages)\n",
            "WARNING: Ignoring invalid distribution -ackaging (c:\\programdata\\anaconda3\\lib\\site-packages)\n",
            "WARNING: Ignoring invalid distribution -oblib (c:\\programdata\\anaconda3\\lib\\site-packages)\n",
            "WARNING: Ignoring invalid distribution - (c:\\programdata\\anaconda3\\lib\\site-packages)\n",
            "WARNING: Ignoring invalid distribution -ackaging (c:\\programdata\\anaconda3\\lib\\site-packages)\n",
            "\n",
            "[notice] A new release of pip is available: 23.0.1 -> 23.1.2\n",
            "[notice] To update, run: python.exe -m pip install --upgrade pip\n"
          ]
        }
      ],
      "source": [
        "#intsalling wordninja and fast-text\n",
        "!pip install wordninja\n",
        "!pip install fasttext\n",
        "!pip install missingno"
      ]
    },
    {
      "cell_type": "code",
      "execution_count": 6,
      "metadata": {
        "id": "fzbCNzFGQw32"
      },
      "outputs": [],
      "source": [
        "#importing required lib\n",
        "import numpy as np\n",
        "import pandas as pd\n",
        "from sklearn.preprocessing import StandardScaler\n",
        "from sklearn.model_selection import train_test_split\n",
        "from sklearn.ensemble import RandomForestClassifier\n",
        "from sklearn.tree import DecisionTreeClassifier\n",
        "from sklearn.neighbors import KNeighborsClassifier\n",
        "from sklearn.metrics import classification_report\n",
        "import matplotlib.pyplot as plt\n",
        "import re\n",
        "from nltk.corpus import stopwords\n",
        "from nltk.tag import pos_tag\n",
        "import wordninja\n",
        "import fasttext\n",
        "import fasttext.util\n",
        "import nltk\n",
        "from nltk.sentiment.vader import SentimentIntensityAnalyzer\n",
        "from sklearn.feature_selection import  SelectFromModel\n",
        "from sklearn.linear_model import LassoCV\n",
        "from sklearn.ensemble import RandomForestClassifier\n",
        "from sklearn.model_selection import GridSearchCV\n",
        "import tempfile\n",
        "import os\n",
        "import seaborn as sns\n",
        "from sklearn.metrics import roc_curve,auc,precision_recall_curve\n",
        "from sklearn.preprocessing import label_binarize\n"
      ]
    },
    {
      "cell_type": "markdown",
      "metadata": {
        "id": "m9rSwd1mQw33"
      },
      "source": [
        "CONFIG & Downloads"
      ]
    },
    {
      "cell_type": "code",
      "execution_count": 7,
      "metadata": {
        "id": "1OygRUaKQw33"
      },
      "outputs": [
        {
          "name": "stderr",
          "output_type": "stream",
          "text": [
            "[nltk_data] Downloading package stopwords to\n",
            "[nltk_data]     C:\\Users\\admin\\AppData\\Roaming\\nltk_data...\n",
            "[nltk_data]   Package stopwords is already up-to-date!\n",
            "Warning : `load_model` does not return WordVectorModel or SupervisedModel any more, but a `FastText` object which is very similar.\n",
            "[nltk_data] Downloading package vader_lexicon to\n",
            "[nltk_data]     C:\\Users\\admin\\AppData\\Roaming\\nltk_data...\n",
            "[nltk_data]   Package vader_lexicon is already up-to-date!\n"
          ]
        },
        {
          "data": {
            "text/plain": [
              "True"
            ]
          },
          "execution_count": 7,
          "metadata": {},
          "output_type": "execute_result"
        }
      ],
      "source": [
        "#download required lib for fasttext and nltk\n",
        "nltk.download('stopwords')\n",
        "stop_words = set(stopwords.words('english'))\n",
        "fasttext.util.download_model('en', if_exists='ignore')  # English\n",
        "fasttext_model = fasttext.load_model('cc.en.300.bin')\n",
        "nltk.download('vader_lexicon')\n"
      ]
    },
    {
      "cell_type": "markdown",
      "metadata": {
        "id": "rEbdBr5aQw33"
      },
      "source": [
        "Helper Function definitions"
      ]
    },
    {
      "cell_type": "code",
      "execution_count": 8,
      "metadata": {
        "id": "7ZOHXAzWQw34"
      },
      "outputs": [],
      "source": [
        "#function to extract tokens from the domain name text data.\n",
        "def get_tokens_from_word_ninja(domain_name):\n",
        "    matches = wordninja.split(domain_name)\n",
        "    filtered_sentence = [w for w in matches if not w in stop_words]\n",
        "    return filtered_sentence"
      ]
    },
    {
      "cell_type": "code",
      "execution_count": 9,
      "metadata": {
        "id": "jGeMyzQEQw34"
      },
      "outputs": [],
      "source": [
        "#function to pos tag the  tokens\n",
        "def get_pos_tagged_tokens(filtered_sentence):\n",
        "    tags = pos_tag(filtered_sentence, tagset='universal')\n",
        "    # Extract nouns and verbs\n",
        "    # initialize lists for each POS category\n",
        "    nouns = []\n",
        "    adjectives = []\n",
        "    verbs = []\n",
        "    prepositions = []\n",
        "    adverbs = []\n",
        "    interjections = []\n",
        "    pronouns = []\n",
        "\n",
        "\n",
        "    # loop through the tagged words and add them to the appropriate list\n",
        "    for word, tag in tags:\n",
        "        if tag.startswith('N'):\n",
        "            nouns.append(word)\n",
        "        elif tag.startswith('V'):\n",
        "            verbs.append(word)\n",
        "        elif tag.startswith('J'):\n",
        "            adjectives.append(word)\n",
        "        elif tag.startswith('R'):\n",
        "            adverbs.append(word)\n",
        "        elif tag == 'PRP':\n",
        "            pronouns.append(word)\n",
        "        elif tag == 'IN':\n",
        "            prepositions.append(word)\n",
        "        elif tag == 'INTJ':\n",
        "            interjections.append(word)\n",
        "    # Create tokens based on nouns and verbs\n",
        "    tokens = nouns + adjectives + verbs + prepositions + adverbs + interjections + pronouns \n",
        "    return list(set(tokens))"
      ]
    },
    {
      "cell_type": "code",
      "execution_count": 10,
      "metadata": {
        "id": "95w1Zq9-Qw34"
      },
      "outputs": [],
      "source": [
        "#function to obtain the sentence vector for the domain name text\n",
        "def get_fasttext_word_embeding_feature_vector(model,sentence):\n",
        "    # features = [model.get_sentence_vector(name) for name in tokens]\n",
        "    features = model.get_sentence_vector(sentence)\n",
        "    embedding_vector = np.mean(features, axis=0) \n",
        "    return embedding_vector"
      ]
    },
    {
      "cell_type": "code",
      "execution_count": 11,
      "metadata": {
        "id": "_n-DYVT9Qw34"
      },
      "outputs": [],
      "source": [
        "#function to get the polarity score using SentimentIntensityAnalyzer for the domain name text\n",
        "def get_sentimental_analysis_features(sentence):\n",
        "    analyzer = SentimentIntensityAnalyzer() # Create a sentiment analyzer object\n",
        "    scores = analyzer.polarity_scores(sentence) # Test the sentiment analyzer on a sample sentence\n",
        "    compunded_result = scores['compound']\n",
        "    return compunded_result"
      ]
    },
    {
      "cell_type": "code",
      "execution_count": 12,
      "metadata": {
        "id": "WCL1zptIQw35"
      },
      "outputs": [],
      "source": [
        "#function to get the character count of domain name text\n",
        "def get_char_count(domain):\n",
        "    return len(domain)"
      ]
    },
    {
      "cell_type": "code",
      "execution_count": 13,
      "metadata": {
        "id": "X9QePS_JQw35"
      },
      "outputs": [],
      "source": [
        "#function to get the word count of domain name text\n",
        "def get_word_count(domain):\n",
        "    return len(domain.split())"
      ]
    },
    {
      "cell_type": "code",
      "execution_count": 14,
      "metadata": {
        "id": "XnlwH6u-Qw35"
      },
      "outputs": [],
      "source": [
        "#function to get the syllable count of domain name text\n",
        "def get_syllable_count(domain):\n",
        "    vowels = 'aeiouy'\n",
        "    count = 0\n",
        "    for word in domain.split():\n",
        "        word = re.sub(r'[^\\w\\s]','',word)\n",
        "        word_count = 0\n",
        "        for letter in word:\n",
        "            if letter in vowels:\n",
        "                if word_count == 0:\n",
        "                    count += 1\n",
        "                word_count += 1\n",
        "        if word_count > 2:\n",
        "            count += 1\n",
        "    return count"
      ]
    },
    {
      "cell_type": "code",
      "execution_count": 15,
      "metadata": {
        "id": "LjcjJrUTQw35"
      },
      "outputs": [],
      "source": [
        "#function to get the average word length of domain name text\n",
        "def get_avg_word_length(words):\n",
        "    return sum(len(word) for word in words) / len(words)"
      ]
    },
    {
      "cell_type": "code",
      "execution_count": 16,
      "metadata": {
        "id": "ErftDJ72Qw35"
      },
      "outputs": [],
      "source": [
        "#function to get the sentence count of domain name text\n",
        "def get_sentence_count(domain):\n",
        "    count = 1\n",
        "    for char in domain:\n",
        "        if char in ['.', '!', '?']:\n",
        "            count += 1\n",
        "    return count"
      ]
    },
    {
      "cell_type": "code",
      "execution_count": 17,
      "metadata": {
        "id": "dIW5KAuXQw36"
      },
      "outputs": [],
      "source": [
        "#function to get the flesch kincaid grade level of domain name text\n",
        "def get_flesch_kincaid_grade_level(domain,sentences_count,syllables_count):\n",
        "    words = domain.split()\n",
        "    num_words = len(words)\n",
        "    return (0.39 * (num_words/sentences_count) + 11.8 * (syllables_count/num_words) - 15.59)\n",
        "\n"
      ]
    },
    {
      "cell_type": "code",
      "execution_count": 18,
      "metadata": {
        "id": "ZrmQmK4CQw36"
      },
      "outputs": [],
      "source": [
        "# function to plot the class/category distribution\n",
        "def analyseClassBalance(target):\n",
        "    class_counts = target.value_counts()\n",
        "    # Create a bar plot\n",
        "    plt.bar(class_counts.index, class_counts.values)\n",
        "    plt.xlabel('Class Label')\n",
        "    plt.ylabel('Number of Data Points')\n",
        "    plt.show()"
      ]
    },
    {
      "cell_type": "code",
      "execution_count": 19,
      "metadata": {
        "id": "p6-udIRMQw36"
      },
      "outputs": [],
      "source": [
        "def generate_temp_file(x,y):\n",
        "        # Write training and validation data to temporary files\n",
        "    with tempfile.NamedTemporaryFile(mode=\"w\", delete=False) as train_file, \\\n",
        "            tempfile.NamedTemporaryFile(mode=\"w\", delete=False) as valid_file:\n",
        "        # Write training data to file\n",
        "        x.apply(lambda row: train_file.write(\n",
        "            f\"__label__{row['label']} {row['domain']}\\n\"), axis=1)\n",
        "        train_data_path = train_file.name\n",
        "\n",
        "        # Write validation data to file\n",
        "        y.apply(lambda row: valid_file.write(\n",
        "            f\"__label__{row['label']} {row['domain']}\\n\"), axis=1)\n",
        "        test_data_path = valid_file.name\n",
        "\n",
        "        return train_data_path, test_data_path"
      ]
    },
    {
      "cell_type": "code",
      "execution_count": 20,
      "metadata": {
        "id": "nvPDPGQsQw36"
      },
      "outputs": [],
      "source": [
        "def generateFastTextModel(_train_data_path):\n",
        "    # Train FastText model\n",
        "    model = fasttext.train_supervised(input=_train_data_path,   \n",
        "        lr= 0.1, # learning rate\n",
        "        epoch= 100, # number of epochs\n",
        "        wordNgrams= 3,  # max length of word ngram if it is uni, bi, tri and so on\n",
        "        bucket= 200000, # number of buckets \n",
        "        dim= 100, # size of word vectors\n",
        "        minn= 2, # min length of char ngram\n",
        "        maxn= 4, # max length of char ngram\n",
        "        loss='softmax', #loss function {ns, hs, softmax} [softmax]\n",
        "    )\n",
        "    return model\n"
      ]
    },
    {
      "cell_type": "markdown",
      "metadata": {
        "id": "2tjsmMAeRu9F"
      },
      "source": [
        "**Read the dataset**\n",
        "*The dataset is hosted in the Github Public Repository*"
      ]
    },
    {
      "cell_type": "code",
      "execution_count": 21,
      "metadata": {
        "id": "CgDZUfAhSSWJ"
      },
      "outputs": [],
      "source": [
        "url = 'https://raw.githubusercontent.com/ajayane/domain_name_value_prediction/main/coursework_data.csv'\n",
        "DF = pd.read_csv(url)\n"
      ]
    },
    {
      "cell_type": "markdown",
      "metadata": {
        "id": "7ZPN2atyQw37"
      },
      "source": [
        "#### Read the dataset"
      ]
    },
    {
      "cell_type": "code",
      "execution_count": 22,
      "metadata": {
        "id": "VJ6Qgf0_Qw37"
      },
      "outputs": [
        {
          "data": {
            "text/html": [
              "<div>\n",
              "<style scoped>\n",
              "    .dataframe tbody tr th:only-of-type {\n",
              "        vertical-align: middle;\n",
              "    }\n",
              "\n",
              "    .dataframe tbody tr th {\n",
              "        vertical-align: top;\n",
              "    }\n",
              "\n",
              "    .dataframe thead th {\n",
              "        text-align: right;\n",
              "    }\n",
              "</style>\n",
              "<table border=\"1\" class=\"dataframe\">\n",
              "  <thead>\n",
              "    <tr style=\"text-align: right;\">\n",
              "      <th></th>\n",
              "      <th>domain</th>\n",
              "      <th>label</th>\n",
              "    </tr>\n",
              "  </thead>\n",
              "  <tbody>\n",
              "    <tr>\n",
              "      <th>0</th>\n",
              "      <td>noriomatsumoto.com</td>\n",
              "      <td>1</td>\n",
              "    </tr>\n",
              "    <tr>\n",
              "      <th>1</th>\n",
              "      <td>haplessmales.com</td>\n",
              "      <td>1</td>\n",
              "    </tr>\n",
              "    <tr>\n",
              "      <th>2</th>\n",
              "      <td>shivamchatuvedi.com</td>\n",
              "      <td>1</td>\n",
              "    </tr>\n",
              "    <tr>\n",
              "      <th>3</th>\n",
              "      <td>dailyfreebieoffer.com</td>\n",
              "      <td>1</td>\n",
              "    </tr>\n",
              "    <tr>\n",
              "      <th>4</th>\n",
              "      <td>poniemall.com</td>\n",
              "      <td>1</td>\n",
              "    </tr>\n",
              "  </tbody>\n",
              "</table>\n",
              "</div>"
            ],
            "text/plain": [
              "                  domain  label\n",
              "0     noriomatsumoto.com      1\n",
              "1       haplessmales.com      1\n",
              "2    shivamchatuvedi.com      1\n",
              "3  dailyfreebieoffer.com      1\n",
              "4          poniemall.com      1"
            ]
          },
          "execution_count": 22,
          "metadata": {},
          "output_type": "execute_result"
        }
      ],
      "source": [
        "DF.head()"
      ]
    },
    {
      "cell_type": "markdown",
      "metadata": {
        "id": "N77DfMvbQw37"
      },
      "source": [
        "#### Missing value Analysis"
      ]
    },
    {
      "cell_type": "code",
      "execution_count": 23,
      "metadata": {
        "id": "mnEUpcShQw38"
      },
      "outputs": [
        {
          "data": {
            "image/png": "[encoded data removed]",
            "text/plain": [
              "<Figure size 432x216 with 3 Axes>"
            ]
          },
          "metadata": {
            "needs_background": "light"
          },
          "output_type": "display_data"
        }
      ],
      "source": [
        "import missingno as msno\n",
        "fig, ax = plt.subplots(figsize=(6, 3))\n",
        "msno.bar(DF,ax=ax)\n",
        "plt.title('Missing value Analysis')\n",
        "plt.show()"
      ]
    },
    {
      "cell_type": "code",
      "execution_count": 24,
      "metadata": {
        "id": "YGgcssgjQw38"
      },
      "outputs": [
        {
          "data": {
            "image/png": "[encoded data removed]",
            "text/plain": [
              "<Figure size 432x288 with 1 Axes>"
            ]
          },
          "metadata": {
            "needs_background": "light"
          },
          "output_type": "display_data"
        }
      ],
      "source": [
        "# Create a box plot of the variable with outliers\n",
        "plt.boxplot(DF['label'])\n",
        "\n",
        "# Set the title and labels for the plot\n",
        "plt.title('Box plot of variable with outliers')\n",
        "plt.xlabel('Label')\n",
        "plt.ylabel('Values')\n",
        "\n",
        "# Show the plot\n",
        "plt.show()"
      ]
    },
    {
      "cell_type": "markdown",
      "metadata": {
        "id": "kW_w295PQw4A"
      },
      "source": [
        "#### correlation matrix "
      ]
    },
    {
      "cell_type": "code",
      "execution_count": 25,
      "metadata": {
        "id": "aIPQYhBfQw4A"
      },
      "outputs": [
        {
          "data": {
            "text/plain": [
              "<AxesSubplot:>"
            ]
          },
          "execution_count": 25,
          "metadata": {},
          "output_type": "execute_result"
        },
        {
          "data": {
            "image/png": "[encoded data removed]",
            "text/plain": [
              "<Figure size 432x288 with 2 Axes>"
            ]
          },
          "metadata": {
            "needs_background": "light"
          },
          "output_type": "display_data"
        }
      ],
      "source": [
        "# Calculate the correlation matrix\n",
        "corr_matrix = DF.corr()\n",
        "# print(corr_matrix)\n",
        "\n",
        "# Plot the correlation matrix as a heatmap\n",
        "sns.heatmap(corr_matrix,  annot=True)\n"
      ]
    },
    {
      "cell_type": "markdown",
      "metadata": {
        "id": "lL-qhmq8Qw4A"
      },
      "source": [
        "#### Distribution Plot of the class Label"
      ]
    },
    {
      "cell_type": "code",
      "execution_count": 26,
      "metadata": {
        "id": "sRcY6gR3Qw4A"
      },
      "outputs": [
        {
          "data": {
            "text/plain": [
              "<seaborn.axisgrid.FacetGrid at 0x23b809465e0>"
            ]
          },
          "execution_count": 26,
          "metadata": {},
          "output_type": "execute_result"
        },
        {
          "data": {
            "image/png": "[encoded data removed]",
            "text/plain": [
              "<Figure size 360x360 with 1 Axes>"
            ]
          },
          "metadata": {
            "needs_background": "light"
          },
          "output_type": "display_data"
        }
      ],
      "source": [
        "# Generate a distribution plot of a single variable\n",
        "sns.displot(DF['label'], kde=True)"
      ]
    },
    {
      "cell_type": "markdown",
      "metadata": {
        "id": "AJbEalCdQw4A"
      },
      "source": [
        "#### Feature Extraction"
      ]
    },
    {
      "cell_type": "code",
      "execution_count": 27,
      "metadata": {
        "id": "iPF6nNMxQw4A"
      },
      "outputs": [],
      "source": [
        "# Extrat length of the domain \n",
        "DF['length'] = DF['domain'].astype(str).str.len()\n",
        "\n",
        "# Extract special characters from the domians\n",
        "DF[\"special_chars\"] = DF.apply(lambda p: sum(not q.isalpha() and not q.isdigit() for q in p[\"domain\"]), axis=1)\n",
        "\n",
        "# Extrct letters from the domains including Uppercase and Lowercase\n",
        "DF[\"letters\"] = DF.apply(lambda p: sum(q.isalpha() for q in p[\"domain\"]), axis=1)\n",
        "DF['upper_case'] = DF.apply(lambda p: sum(q.isupper() for q in p['domain']), axis=1)\n",
        "DF['lower_case'] = DF.apply(lambda p: sum(q.islower() for q in p['domain']), axis=1)\n",
        "\n",
        "# Separate the letters to vowels and consonants\n",
        "DF['vowels'] = DF.domain.str.lower().str.count(r'[aeiou]')\n",
        "DF['consonants'] = DF.domain.str.lower().str.count(r'[a-z]') - DF['vowels']\n",
        "\n",
        "# Extract numbers from the domains\n",
        "DF[\"numbers\"] = DF.apply(lambda p: sum(q.isdigit() for q in p[\"domain\"]), axis=1)\n",
        "\n",
        "#Extract syllable count\n",
        "DF[\"syllable_count\"] = DF.apply(lambda p: get_syllable_count(p[\"domain\"]), axis=1)\n",
        "\n",
        "\n",
        "#Extract Sentense count useful when there is sub domains/TLD more\n",
        "DF[\"sentence_count\"] = DF.apply(lambda p: get_sentence_count(p[\"domain\"]), axis=1)\n",
        "\n",
        "#Extract the tokens\n",
        "DF[\"tokens\"] = DF.apply(lambda p:  get_tokens_from_word_ninja(p[\"domain\"]), axis=1)\n",
        "\n",
        "#Perform word embedings\n",
        "DF[\"word_embedding\"] = DF.apply(lambda p:  get_fasttext_word_embeding_feature_vector(fasttext_model,' '.join(p[\"tokens\"])), axis=1)\n",
        "\n",
        "#Perform Sentimental analysis\n",
        "DF[\"s_a_c\"] = DF.apply(lambda p:  get_sentimental_analysis_features( ' '.join(p[\"tokens\"])), axis=1)\n",
        "\n",
        "\n",
        "#Extract token count\n",
        "DF[\"token_count\"] = DF.apply(lambda p: len(p[\"tokens\"]), axis=1)\n",
        "\n",
        "#get the flesch kincaid grade level for the words in the domain name\n",
        "DF[\"f_k_g_l\"] = DF.apply(lambda p: get_flesch_kincaid_grade_level(p[\"domain\"],p[\"sentence_count\"],p[\"syllable_count\"]), axis=1)\n",
        "\n",
        "#Extract avg word length\n",
        "DF[\"avg_word_len\"] = DF.apply(lambda p: get_avg_word_length(p[\"tokens\"]), axis=1) \n",
        "\n"
      ]
    },
    {
      "cell_type": "code",
      "execution_count": 28,
      "metadata": {
        "id": "SOsMpZ01Qw4B"
      },
      "outputs": [
        {
          "data": {
            "text/html": [
              "<div>\n",
              "<style scoped>\n",
              "    .dataframe tbody tr th:only-of-type {\n",
              "        vertical-align: middle;\n",
              "    }\n",
              "\n",
              "    .dataframe tbody tr th {\n",
              "        vertical-align: top;\n",
              "    }\n",
              "\n",
              "    .dataframe thead th {\n",
              "        text-align: right;\n",
              "    }\n",
              "</style>\n",
              "<table border=\"1\" class=\"dataframe\">\n",
              "  <thead>\n",
              "    <tr style=\"text-align: right;\">\n",
              "      <th></th>\n",
              "      <th>domain</th>\n",
              "      <th>label</th>\n",
              "      <th>length</th>\n",
              "      <th>special_chars</th>\n",
              "      <th>letters</th>\n",
              "      <th>upper_case</th>\n",
              "      <th>lower_case</th>\n",
              "      <th>vowels</th>\n",
              "      <th>consonants</th>\n",
              "      <th>numbers</th>\n",
              "      <th>syllable_count</th>\n",
              "      <th>sentence_count</th>\n",
              "      <th>tokens</th>\n",
              "      <th>word_embedding</th>\n",
              "      <th>s_a_c</th>\n",
              "      <th>token_count</th>\n",
              "      <th>f_k_g_l</th>\n",
              "      <th>avg_word_len</th>\n",
              "    </tr>\n",
              "  </thead>\n",
              "  <tbody>\n",
              "    <tr>\n",
              "      <th>0</th>\n",
              "      <td>noriomatsumoto.com</td>\n",
              "      <td>1</td>\n",
              "      <td>18</td>\n",
              "      <td>1</td>\n",
              "      <td>17</td>\n",
              "      <td>0</td>\n",
              "      <td>17</td>\n",
              "      <td>8</td>\n",
              "      <td>9</td>\n",
              "      <td>0</td>\n",
              "      <td>2</td>\n",
              "      <td>2</td>\n",
              "      <td>[norio, matsumoto, com]</td>\n",
              "      <td>-0.000206</td>\n",
              "      <td>0.0000</td>\n",
              "      <td>3</td>\n",
              "      <td>8.205</td>\n",
              "      <td>5.666667</td>\n",
              "    </tr>\n",
              "    <tr>\n",
              "      <th>1</th>\n",
              "      <td>haplessmales.com</td>\n",
              "      <td>1</td>\n",
              "      <td>16</td>\n",
              "      <td>1</td>\n",
              "      <td>15</td>\n",
              "      <td>0</td>\n",
              "      <td>15</td>\n",
              "      <td>5</td>\n",
              "      <td>10</td>\n",
              "      <td>0</td>\n",
              "      <td>2</td>\n",
              "      <td>2</td>\n",
              "      <td>[hapless, males, com]</td>\n",
              "      <td>0.000396</td>\n",
              "      <td>-0.3400</td>\n",
              "      <td>3</td>\n",
              "      <td>8.205</td>\n",
              "      <td>5.000000</td>\n",
              "    </tr>\n",
              "    <tr>\n",
              "      <th>2</th>\n",
              "      <td>shivamchatuvedi.com</td>\n",
              "      <td>1</td>\n",
              "      <td>19</td>\n",
              "      <td>1</td>\n",
              "      <td>18</td>\n",
              "      <td>0</td>\n",
              "      <td>18</td>\n",
              "      <td>7</td>\n",
              "      <td>11</td>\n",
              "      <td>0</td>\n",
              "      <td>2</td>\n",
              "      <td>2</td>\n",
              "      <td>[shiva, chat, uv, edi, com]</td>\n",
              "      <td>0.002286</td>\n",
              "      <td>0.0000</td>\n",
              "      <td>5</td>\n",
              "      <td>8.205</td>\n",
              "      <td>3.400000</td>\n",
              "    </tr>\n",
              "    <tr>\n",
              "      <th>3</th>\n",
              "      <td>dailyfreebieoffer.com</td>\n",
              "      <td>1</td>\n",
              "      <td>21</td>\n",
              "      <td>1</td>\n",
              "      <td>20</td>\n",
              "      <td>0</td>\n",
              "      <td>20</td>\n",
              "      <td>9</td>\n",
              "      <td>11</td>\n",
              "      <td>0</td>\n",
              "      <td>2</td>\n",
              "      <td>2</td>\n",
              "      <td>[daily, freebie, offer, com]</td>\n",
              "      <td>0.001267</td>\n",
              "      <td>0.4215</td>\n",
              "      <td>4</td>\n",
              "      <td>8.205</td>\n",
              "      <td>5.000000</td>\n",
              "    </tr>\n",
              "    <tr>\n",
              "      <th>4</th>\n",
              "      <td>poniemall.com</td>\n",
              "      <td>1</td>\n",
              "      <td>13</td>\n",
              "      <td>1</td>\n",
              "      <td>12</td>\n",
              "      <td>0</td>\n",
              "      <td>12</td>\n",
              "      <td>5</td>\n",
              "      <td>7</td>\n",
              "      <td>0</td>\n",
              "      <td>2</td>\n",
              "      <td>2</td>\n",
              "      <td>[poni, em, com]</td>\n",
              "      <td>0.001600</td>\n",
              "      <td>0.0000</td>\n",
              "      <td>3</td>\n",
              "      <td>8.205</td>\n",
              "      <td>3.000000</td>\n",
              "    </tr>\n",
              "  </tbody>\n",
              "</table>\n",
              "</div>"
            ],
            "text/plain": [
              "                  domain  label  length  special_chars  letters  upper_case  \\\n",
              "0     noriomatsumoto.com      1      18              1       17           0   \n",
              "1       haplessmales.com      1      16              1       15           0   \n",
              "2    shivamchatuvedi.com      1      19              1       18           0   \n",
              "3  dailyfreebieoffer.com      1      21              1       20           0   \n",
              "4          poniemall.com      1      13              1       12           0   \n",
              "\n",
              "   lower_case  vowels  consonants  numbers  syllable_count  sentence_count  \\\n",
              "0          17       8           9        0               2               2   \n",
              "1          15       5          10        0               2               2   \n",
              "2          18       7          11        0               2               2   \n",
              "3          20       9          11        0               2               2   \n",
              "4          12       5           7        0               2               2   \n",
              "\n",
              "                         tokens  word_embedding   s_a_c  token_count  f_k_g_l  \\\n",
              "0       [norio, matsumoto, com]       -0.000206  0.0000            3    8.205   \n",
              "1         [hapless, males, com]        0.000396 -0.3400            3    8.205   \n",
              "2   [shiva, chat, uv, edi, com]        0.002286  0.0000            5    8.205   \n",
              "3  [daily, freebie, offer, com]        0.001267  0.4215            4    8.205   \n",
              "4               [poni, em, com]        0.001600  0.0000            3    8.205   \n",
              "\n",
              "   avg_word_len  \n",
              "0      5.666667  \n",
              "1      5.000000  \n",
              "2      3.400000  \n",
              "3      5.000000  \n",
              "4      3.000000  "
            ]
          },
          "execution_count": 28,
          "metadata": {},
          "output_type": "execute_result"
        }
      ],
      "source": [
        "DF.head()"
      ]
    },
    {
      "cell_type": "markdown",
      "metadata": {
        "id": "0AFM5RYwQw4B"
      },
      "source": [
        "#### class imbalance problem in the dataset"
      ]
    },
    {
      "cell_type": "code",
      "execution_count": 29,
      "metadata": {
        "id": "Dv0w35WoQw4B"
      },
      "outputs": [
        {
          "data": {
            "image/png": "[encoded data removed]",
            "text/plain": [
              "<Figure size 432x288 with 1 Axes>"
            ]
          },
          "metadata": {
            "needs_background": "light"
          },
          "output_type": "display_data"
        }
      ],
      "source": [
        "analyseClassBalance(DF['label'])"
      ]
    },
    {
      "cell_type": "markdown",
      "metadata": {
        "id": "wJ3DD2A_Qw4B"
      },
      "source": [
        "#### handling class imbalance problem by Random Over Sampling"
      ]
    },
    {
      "cell_type": "code",
      "execution_count": 30,
      "metadata": {
        "id": "9zMf6TFcQw4B"
      },
      "outputs": [],
      "source": [
        "#resampling the dataset\n",
        "from imblearn.over_sampling import RandomOverSampler\n",
        "ros = RandomOverSampler()\n",
        "x, y = ros.fit_resample(DF, DF['label'])"
      ]
    },
    {
      "cell_type": "code",
      "execution_count": 31,
      "metadata": {
        "id": "VzZxnoH0Qw4K"
      },
      "outputs": [
        {
          "data": {
            "image/png": "[encoded data removed]",
            "text/plain": [
              "<Figure size 432x288 with 1 Axes>"
            ]
          },
          "metadata": {
            "needs_background": "light"
          },
          "output_type": "display_data"
        }
      ],
      "source": [
        "analyseClassBalance(y)"
      ]
    },
    {
      "cell_type": "code",
      "execution_count": 32,
      "metadata": {
        "id": "vx_dKzsiQw4K"
      },
      "outputs": [
        {
          "data": {
            "text/plain": [
              "0    1\n",
              "1    1\n",
              "2    1\n",
              "3    1\n",
              "4    1\n",
              "Name: label, dtype: int64"
            ]
          },
          "execution_count": 32,
          "metadata": {},
          "output_type": "execute_result"
        }
      ],
      "source": [
        "y.head()"
      ]
    },
    {
      "cell_type": "code",
      "execution_count": 33,
      "metadata": {
        "id": "k8yRvRb2Qw4K"
      },
      "outputs": [
        {
          "data": {
            "text/html": [
              "<div>\n",
              "<style scoped>\n",
              "    .dataframe tbody tr th:only-of-type {\n",
              "        vertical-align: middle;\n",
              "    }\n",
              "\n",
              "    .dataframe tbody tr th {\n",
              "        vertical-align: top;\n",
              "    }\n",
              "\n",
              "    .dataframe thead th {\n",
              "        text-align: right;\n",
              "    }\n",
              "</style>\n",
              "<table border=\"1\" class=\"dataframe\">\n",
              "  <thead>\n",
              "    <tr style=\"text-align: right;\">\n",
              "      <th></th>\n",
              "      <th>domain</th>\n",
              "      <th>label</th>\n",
              "      <th>length</th>\n",
              "      <th>special_chars</th>\n",
              "      <th>letters</th>\n",
              "      <th>upper_case</th>\n",
              "      <th>lower_case</th>\n",
              "      <th>vowels</th>\n",
              "      <th>consonants</th>\n",
              "      <th>numbers</th>\n",
              "      <th>syllable_count</th>\n",
              "      <th>sentence_count</th>\n",
              "      <th>tokens</th>\n",
              "      <th>word_embedding</th>\n",
              "      <th>s_a_c</th>\n",
              "      <th>token_count</th>\n",
              "      <th>f_k_g_l</th>\n",
              "      <th>avg_word_len</th>\n",
              "    </tr>\n",
              "  </thead>\n",
              "  <tbody>\n",
              "    <tr>\n",
              "      <th>0</th>\n",
              "      <td>noriomatsumoto.com</td>\n",
              "      <td>1</td>\n",
              "      <td>18</td>\n",
              "      <td>1</td>\n",
              "      <td>17</td>\n",
              "      <td>0</td>\n",
              "      <td>17</td>\n",
              "      <td>8</td>\n",
              "      <td>9</td>\n",
              "      <td>0</td>\n",
              "      <td>2</td>\n",
              "      <td>2</td>\n",
              "      <td>[norio, matsumoto, com]</td>\n",
              "      <td>-0.000206</td>\n",
              "      <td>0.0000</td>\n",
              "      <td>3</td>\n",
              "      <td>8.205</td>\n",
              "      <td>5.666667</td>\n",
              "    </tr>\n",
              "    <tr>\n",
              "      <th>1</th>\n",
              "      <td>haplessmales.com</td>\n",
              "      <td>1</td>\n",
              "      <td>16</td>\n",
              "      <td>1</td>\n",
              "      <td>15</td>\n",
              "      <td>0</td>\n",
              "      <td>15</td>\n",
              "      <td>5</td>\n",
              "      <td>10</td>\n",
              "      <td>0</td>\n",
              "      <td>2</td>\n",
              "      <td>2</td>\n",
              "      <td>[hapless, males, com]</td>\n",
              "      <td>0.000396</td>\n",
              "      <td>-0.3400</td>\n",
              "      <td>3</td>\n",
              "      <td>8.205</td>\n",
              "      <td>5.000000</td>\n",
              "    </tr>\n",
              "    <tr>\n",
              "      <th>2</th>\n",
              "      <td>shivamchatuvedi.com</td>\n",
              "      <td>1</td>\n",
              "      <td>19</td>\n",
              "      <td>1</td>\n",
              "      <td>18</td>\n",
              "      <td>0</td>\n",
              "      <td>18</td>\n",
              "      <td>7</td>\n",
              "      <td>11</td>\n",
              "      <td>0</td>\n",
              "      <td>2</td>\n",
              "      <td>2</td>\n",
              "      <td>[shiva, chat, uv, edi, com]</td>\n",
              "      <td>0.002286</td>\n",
              "      <td>0.0000</td>\n",
              "      <td>5</td>\n",
              "      <td>8.205</td>\n",
              "      <td>3.400000</td>\n",
              "    </tr>\n",
              "    <tr>\n",
              "      <th>3</th>\n",
              "      <td>dailyfreebieoffer.com</td>\n",
              "      <td>1</td>\n",
              "      <td>21</td>\n",
              "      <td>1</td>\n",
              "      <td>20</td>\n",
              "      <td>0</td>\n",
              "      <td>20</td>\n",
              "      <td>9</td>\n",
              "      <td>11</td>\n",
              "      <td>0</td>\n",
              "      <td>2</td>\n",
              "      <td>2</td>\n",
              "      <td>[daily, freebie, offer, com]</td>\n",
              "      <td>0.001267</td>\n",
              "      <td>0.4215</td>\n",
              "      <td>4</td>\n",
              "      <td>8.205</td>\n",
              "      <td>5.000000</td>\n",
              "    </tr>\n",
              "    <tr>\n",
              "      <th>4</th>\n",
              "      <td>poniemall.com</td>\n",
              "      <td>1</td>\n",
              "      <td>13</td>\n",
              "      <td>1</td>\n",
              "      <td>12</td>\n",
              "      <td>0</td>\n",
              "      <td>12</td>\n",
              "      <td>5</td>\n",
              "      <td>7</td>\n",
              "      <td>0</td>\n",
              "      <td>2</td>\n",
              "      <td>2</td>\n",
              "      <td>[poni, em, com]</td>\n",
              "      <td>0.001600</td>\n",
              "      <td>0.0000</td>\n",
              "      <td>3</td>\n",
              "      <td>8.205</td>\n",
              "      <td>3.000000</td>\n",
              "    </tr>\n",
              "  </tbody>\n",
              "</table>\n",
              "</div>"
            ],
            "text/plain": [
              "                  domain  label  length  special_chars  letters  upper_case  \\\n",
              "0     noriomatsumoto.com      1      18              1       17           0   \n",
              "1       haplessmales.com      1      16              1       15           0   \n",
              "2    shivamchatuvedi.com      1      19              1       18           0   \n",
              "3  dailyfreebieoffer.com      1      21              1       20           0   \n",
              "4          poniemall.com      1      13              1       12           0   \n",
              "\n",
              "   lower_case  vowels  consonants  numbers  syllable_count  sentence_count  \\\n",
              "0          17       8           9        0               2               2   \n",
              "1          15       5          10        0               2               2   \n",
              "2          18       7          11        0               2               2   \n",
              "3          20       9          11        0               2               2   \n",
              "4          12       5           7        0               2               2   \n",
              "\n",
              "                         tokens  word_embedding   s_a_c  token_count  f_k_g_l  \\\n",
              "0       [norio, matsumoto, com]       -0.000206  0.0000            3    8.205   \n",
              "1         [hapless, males, com]        0.000396 -0.3400            3    8.205   \n",
              "2   [shiva, chat, uv, edi, com]        0.002286  0.0000            5    8.205   \n",
              "3  [daily, freebie, offer, com]        0.001267  0.4215            4    8.205   \n",
              "4               [poni, em, com]        0.001600  0.0000            3    8.205   \n",
              "\n",
              "   avg_word_len  \n",
              "0      5.666667  \n",
              "1      5.000000  \n",
              "2      3.400000  \n",
              "3      5.000000  \n",
              "4      3.000000  "
            ]
          },
          "execution_count": 33,
          "metadata": {},
          "output_type": "execute_result"
        }
      ],
      "source": [
        "x.head()"
      ]
    },
    {
      "cell_type": "code",
      "execution_count": 34,
      "metadata": {
        "id": "RnI3bwOoQw4L"
      },
      "outputs": [
        {
          "data": {
            "text/plain": [
              "(30000, 18)"
            ]
          },
          "execution_count": 34,
          "metadata": {},
          "output_type": "execute_result"
        }
      ],
      "source": [
        "x.shape"
      ]
    },
    {
      "cell_type": "code",
      "execution_count": 35,
      "metadata": {
        "id": "8lB93ZOyQw4L"
      },
      "outputs": [
        {
          "data": {
            "text/plain": [
              "(30000,)"
            ]
          },
          "execution_count": 35,
          "metadata": {},
          "output_type": "execute_result"
        }
      ],
      "source": [
        "y.shape"
      ]
    },
    {
      "cell_type": "markdown",
      "metadata": {
        "id": "1OU-JIn1Qw4L"
      },
      "source": [
        "#### Splitting dataset to train and test"
      ]
    },
    {
      "cell_type": "code",
      "execution_count": 36,
      "metadata": {
        "id": "WeJxnJJ1Qw4M"
      },
      "outputs": [],
      "source": [
        "#split to train and test here.\n",
        "# 30% - X_test , y_train\n",
        "# 70% - X_train , y_train\n",
        "X_train, X_test, y_train, y_test = train_test_split(x, y, test_size=0.3, random_state=42)"
      ]
    },
    {
      "cell_type": "markdown",
      "metadata": {
        "id": "yaeGk3YbQw4M"
      },
      "source": [
        "#### Generating temporary file to feed to fastText Supervised NLP Model"
      ]
    },
    {
      "cell_type": "code",
      "execution_count": 37,
      "metadata": {
        "id": "KOymmGK0Qw4M"
      },
      "outputs": [
        {
          "name": "stdout",
          "output_type": "stream",
          "text": [
            "C:\\Users\\admin\\AppData\\Local\\Temp\\tmp4hwmafq5\n",
            "C:\\Users\\admin\\AppData\\Local\\Temp\\tmpz7m6yb68\n"
          ]
        }
      ],
      "source": [
        "train_data_path, test_data_path =generate_temp_file(X_train,X_test)\n",
        "\n",
        "print(train_data_path)\n",
        "print(test_data_path)"
      ]
    },
    {
      "cell_type": "markdown",
      "metadata": {
        "id": "F5Z9nv3KQw4N"
      },
      "source": [
        "#### Generate the fastText supervised model for the train and test data"
      ]
    },
    {
      "cell_type": "code",
      "execution_count": 38,
      "metadata": {
        "id": "wjpT0BK9Qw4N"
      },
      "outputs": [],
      "source": [
        "fastTextTrainedModelTrain = generateFastTextModel(train_data_path)\n",
        "fastTextTrainedModelTest = generateFastTextModel(test_data_path)"
      ]
    },
    {
      "cell_type": "markdown",
      "metadata": {
        "id": "Ds0AuH8tQw4N"
      },
      "source": [
        "#### Remove the unwanted columns from the train and test dataset"
      ]
    },
    {
      "cell_type": "code",
      "execution_count": 39,
      "metadata": {
        "id": "87O653ZGQw4N"
      },
      "outputs": [
        {
          "data": {
            "text/html": [
              "<div>\n",
              "<style scoped>\n",
              "    .dataframe tbody tr th:only-of-type {\n",
              "        vertical-align: middle;\n",
              "    }\n",
              "\n",
              "    .dataframe tbody tr th {\n",
              "        vertical-align: top;\n",
              "    }\n",
              "\n",
              "    .dataframe thead th {\n",
              "        text-align: right;\n",
              "    }\n",
              "</style>\n",
              "<table border=\"1\" class=\"dataframe\">\n",
              "  <thead>\n",
              "    <tr style=\"text-align: right;\">\n",
              "      <th></th>\n",
              "      <th>length</th>\n",
              "      <th>special_chars</th>\n",
              "      <th>letters</th>\n",
              "      <th>upper_case</th>\n",
              "      <th>lower_case</th>\n",
              "      <th>vowels</th>\n",
              "      <th>consonants</th>\n",
              "      <th>numbers</th>\n",
              "      <th>syllable_count</th>\n",
              "      <th>sentence_count</th>\n",
              "      <th>word_embedding</th>\n",
              "      <th>s_a_c</th>\n",
              "      <th>token_count</th>\n",
              "      <th>f_k_g_l</th>\n",
              "      <th>avg_word_len</th>\n",
              "    </tr>\n",
              "  </thead>\n",
              "  <tbody>\n",
              "    <tr>\n",
              "      <th>28465</th>\n",
              "      <td>9</td>\n",
              "      <td>1</td>\n",
              "      <td>8</td>\n",
              "      <td>0</td>\n",
              "      <td>8</td>\n",
              "      <td>3</td>\n",
              "      <td>5</td>\n",
              "      <td>0</td>\n",
              "      <td>2</td>\n",
              "      <td>2</td>\n",
              "      <td>0.001953</td>\n",
              "      <td>0.0000</td>\n",
              "      <td>3</td>\n",
              "      <td>8.205</td>\n",
              "      <td>2.666667</td>\n",
              "    </tr>\n",
              "    <tr>\n",
              "      <th>27622</th>\n",
              "      <td>20</td>\n",
              "      <td>1</td>\n",
              "      <td>19</td>\n",
              "      <td>0</td>\n",
              "      <td>19</td>\n",
              "      <td>7</td>\n",
              "      <td>12</td>\n",
              "      <td>0</td>\n",
              "      <td>2</td>\n",
              "      <td>2</td>\n",
              "      <td>0.002209</td>\n",
              "      <td>0.0000</td>\n",
              "      <td>3</td>\n",
              "      <td>8.205</td>\n",
              "      <td>6.333333</td>\n",
              "    </tr>\n",
              "    <tr>\n",
              "      <th>28376</th>\n",
              "      <td>22</td>\n",
              "      <td>1</td>\n",
              "      <td>21</td>\n",
              "      <td>0</td>\n",
              "      <td>21</td>\n",
              "      <td>8</td>\n",
              "      <td>13</td>\n",
              "      <td>0</td>\n",
              "      <td>2</td>\n",
              "      <td>2</td>\n",
              "      <td>0.000768</td>\n",
              "      <td>0.4215</td>\n",
              "      <td>3</td>\n",
              "      <td>8.205</td>\n",
              "      <td>7.000000</td>\n",
              "    </tr>\n",
              "    <tr>\n",
              "      <th>10917</th>\n",
              "      <td>11</td>\n",
              "      <td>1</td>\n",
              "      <td>10</td>\n",
              "      <td>0</td>\n",
              "      <td>10</td>\n",
              "      <td>3</td>\n",
              "      <td>7</td>\n",
              "      <td>0</td>\n",
              "      <td>2</td>\n",
              "      <td>2</td>\n",
              "      <td>0.000899</td>\n",
              "      <td>0.0000</td>\n",
              "      <td>3</td>\n",
              "      <td>8.205</td>\n",
              "      <td>3.333333</td>\n",
              "    </tr>\n",
              "    <tr>\n",
              "      <th>27234</th>\n",
              "      <td>11</td>\n",
              "      <td>1</td>\n",
              "      <td>10</td>\n",
              "      <td>0</td>\n",
              "      <td>10</td>\n",
              "      <td>3</td>\n",
              "      <td>7</td>\n",
              "      <td>0</td>\n",
              "      <td>2</td>\n",
              "      <td>2</td>\n",
              "      <td>0.000853</td>\n",
              "      <td>0.0000</td>\n",
              "      <td>3</td>\n",
              "      <td>8.205</td>\n",
              "      <td>3.333333</td>\n",
              "    </tr>\n",
              "  </tbody>\n",
              "</table>\n",
              "</div>"
            ],
            "text/plain": [
              "       length  special_chars  letters  upper_case  lower_case  vowels  \\\n",
              "28465       9              1        8           0           8       3   \n",
              "27622      20              1       19           0          19       7   \n",
              "28376      22              1       21           0          21       8   \n",
              "10917      11              1       10           0          10       3   \n",
              "27234      11              1       10           0          10       3   \n",
              "\n",
              "       consonants  numbers  syllable_count  sentence_count  word_embedding  \\\n",
              "28465           5        0               2               2        0.001953   \n",
              "27622          12        0               2               2        0.002209   \n",
              "28376          13        0               2               2        0.000768   \n",
              "10917           7        0               2               2        0.000899   \n",
              "27234           7        0               2               2        0.000853   \n",
              "\n",
              "        s_a_c  token_count  f_k_g_l  avg_word_len  \n",
              "28465  0.0000            3    8.205      2.666667  \n",
              "27622  0.0000            3    8.205      6.333333  \n",
              "28376  0.4215            3    8.205      7.000000  \n",
              "10917  0.0000            3    8.205      3.333333  \n",
              "27234  0.0000            3    8.205      3.333333  "
            ]
          },
          "execution_count": 39,
          "metadata": {},
          "output_type": "execute_result"
        }
      ],
      "source": [
        "X_train = X_train.drop('domain', axis=1)\n",
        "X_train = X_train.drop('tokens', axis=1)\n",
        "X_train = X_train.drop('label', axis=1)\n",
        "\n",
        "X_train.head()"
      ]
    },
    {
      "cell_type": "code",
      "execution_count": 40,
      "metadata": {
        "id": "n9tvfRWQQw4O"
      },
      "outputs": [
        {
          "data": {
            "text/html": [
              "<div>\n",
              "<style scoped>\n",
              "    .dataframe tbody tr th:only-of-type {\n",
              "        vertical-align: middle;\n",
              "    }\n",
              "\n",
              "    .dataframe tbody tr th {\n",
              "        vertical-align: top;\n",
              "    }\n",
              "\n",
              "    .dataframe thead th {\n",
              "        text-align: right;\n",
              "    }\n",
              "</style>\n",
              "<table border=\"1\" class=\"dataframe\">\n",
              "  <thead>\n",
              "    <tr style=\"text-align: right;\">\n",
              "      <th></th>\n",
              "      <th>length</th>\n",
              "      <th>special_chars</th>\n",
              "      <th>letters</th>\n",
              "      <th>upper_case</th>\n",
              "      <th>lower_case</th>\n",
              "      <th>vowels</th>\n",
              "      <th>consonants</th>\n",
              "      <th>numbers</th>\n",
              "      <th>syllable_count</th>\n",
              "      <th>sentence_count</th>\n",
              "      <th>word_embedding</th>\n",
              "      <th>s_a_c</th>\n",
              "      <th>token_count</th>\n",
              "      <th>f_k_g_l</th>\n",
              "      <th>avg_word_len</th>\n",
              "    </tr>\n",
              "  </thead>\n",
              "  <tbody>\n",
              "    <tr>\n",
              "      <th>2308</th>\n",
              "      <td>14</td>\n",
              "      <td>1</td>\n",
              "      <td>13</td>\n",
              "      <td>0</td>\n",
              "      <td>13</td>\n",
              "      <td>5</td>\n",
              "      <td>8</td>\n",
              "      <td>0</td>\n",
              "      <td>2</td>\n",
              "      <td>2</td>\n",
              "      <td>0.001419</td>\n",
              "      <td>0.0000</td>\n",
              "      <td>4</td>\n",
              "      <td>8.205</td>\n",
              "      <td>3.250000</td>\n",
              "    </tr>\n",
              "    <tr>\n",
              "      <th>22404</th>\n",
              "      <td>12</td>\n",
              "      <td>1</td>\n",
              "      <td>11</td>\n",
              "      <td>0</td>\n",
              "      <td>11</td>\n",
              "      <td>5</td>\n",
              "      <td>6</td>\n",
              "      <td>0</td>\n",
              "      <td>2</td>\n",
              "      <td>2</td>\n",
              "      <td>0.000630</td>\n",
              "      <td>0.4404</td>\n",
              "      <td>3</td>\n",
              "      <td>8.205</td>\n",
              "      <td>3.666667</td>\n",
              "    </tr>\n",
              "    <tr>\n",
              "      <th>23397</th>\n",
              "      <td>12</td>\n",
              "      <td>1</td>\n",
              "      <td>11</td>\n",
              "      <td>0</td>\n",
              "      <td>11</td>\n",
              "      <td>3</td>\n",
              "      <td>8</td>\n",
              "      <td>0</td>\n",
              "      <td>2</td>\n",
              "      <td>2</td>\n",
              "      <td>-0.000572</td>\n",
              "      <td>0.0000</td>\n",
              "      <td>3</td>\n",
              "      <td>8.205</td>\n",
              "      <td>3.666667</td>\n",
              "    </tr>\n",
              "    <tr>\n",
              "      <th>25058</th>\n",
              "      <td>8</td>\n",
              "      <td>1</td>\n",
              "      <td>7</td>\n",
              "      <td>0</td>\n",
              "      <td>7</td>\n",
              "      <td>2</td>\n",
              "      <td>5</td>\n",
              "      <td>0</td>\n",
              "      <td>1</td>\n",
              "      <td>2</td>\n",
              "      <td>0.002681</td>\n",
              "      <td>0.0000</td>\n",
              "      <td>2</td>\n",
              "      <td>-3.595</td>\n",
              "      <td>3.000000</td>\n",
              "    </tr>\n",
              "    <tr>\n",
              "      <th>2664</th>\n",
              "      <td>18</td>\n",
              "      <td>1</td>\n",
              "      <td>17</td>\n",
              "      <td>0</td>\n",
              "      <td>17</td>\n",
              "      <td>7</td>\n",
              "      <td>10</td>\n",
              "      <td>0</td>\n",
              "      <td>2</td>\n",
              "      <td>2</td>\n",
              "      <td>0.001049</td>\n",
              "      <td>0.0000</td>\n",
              "      <td>2</td>\n",
              "      <td>8.205</td>\n",
              "      <td>3.500000</td>\n",
              "    </tr>\n",
              "  </tbody>\n",
              "</table>\n",
              "</div>"
            ],
            "text/plain": [
              "       length  special_chars  letters  upper_case  lower_case  vowels  \\\n",
              "2308       14              1       13           0          13       5   \n",
              "22404      12              1       11           0          11       5   \n",
              "23397      12              1       11           0          11       3   \n",
              "25058       8              1        7           0           7       2   \n",
              "2664       18              1       17           0          17       7   \n",
              "\n",
              "       consonants  numbers  syllable_count  sentence_count  word_embedding  \\\n",
              "2308            8        0               2               2        0.001419   \n",
              "22404           6        0               2               2        0.000630   \n",
              "23397           8        0               2               2       -0.000572   \n",
              "25058           5        0               1               2        0.002681   \n",
              "2664           10        0               2               2        0.001049   \n",
              "\n",
              "        s_a_c  token_count  f_k_g_l  avg_word_len  \n",
              "2308   0.0000            4    8.205      3.250000  \n",
              "22404  0.4404            3    8.205      3.666667  \n",
              "23397  0.0000            3    8.205      3.666667  \n",
              "25058  0.0000            2   -3.595      3.000000  \n",
              "2664   0.0000            2    8.205      3.500000  "
            ]
          },
          "execution_count": 40,
          "metadata": {},
          "output_type": "execute_result"
        }
      ],
      "source": [
        "X_test = X_test.drop('domain', axis=1)\n",
        "X_test = X_test.drop('tokens', axis=1)\n",
        "X_test = X_test.drop('label', axis=1)\n",
        "# X_resampled = X_resampled.drop('tokens', axis=1)\n",
        "X_test.head()"
      ]
    },
    {
      "cell_type": "markdown",
      "metadata": {
        "id": "v0jMFP_8Qw4P"
      },
      "source": [
        "####  combine the features from fastText trained model to train and test dataset"
      ]
    },
    {
      "cell_type": "code",
      "execution_count": 41,
      "metadata": {
        "id": "ki_qahuqQw4P"
      },
      "outputs": [],
      "source": [
        "X_train_fasttext = np.zeros((len(X_train), fastTextTrainedModelTrain.get_dimension()))\n",
        "X_test_fasttext = np.zeros((len(X_test), fastTextTrainedModelTest.get_dimension()))"
      ]
    },
    {
      "cell_type": "code",
      "execution_count": 42,
      "metadata": {
        "id": "DbkMIF9DQw4P"
      },
      "outputs": [],
      "source": [
        "for i, text in enumerate(X_train):\n",
        "    X_train_fasttext[i] = fastTextTrainedModelTrain.get_sentence_vector(text)\n",
        "\n",
        "for i, text in enumerate(X_test):\n",
        "    X_test_fasttext[i] = fastTextTrainedModelTest.get_sentence_vector(text)"
      ]
    },
    {
      "cell_type": "code",
      "execution_count": 43,
      "metadata": {
        "id": "QGgobjhlQw4Q"
      },
      "outputs": [],
      "source": [
        "X_Train_combined = np.hstack((X_train, X_train_fasttext))\n",
        "X_Test_combined = np.hstack((X_test, X_test_fasttext))"
      ]
    },
    {
      "cell_type": "code",
      "execution_count": 44,
      "metadata": {
        "id": "9oTEbtiIQw4Q"
      },
      "outputs": [],
      "source": [
        "x_train_final = X_Train_combined\n",
        "x_test_final = X_Test_combined"
      ]
    },
    {
      "cell_type": "markdown",
      "metadata": {
        "id": "JriYvx-tQw4Q"
      },
      "source": [
        "#### Analyse the size of train and test data"
      ]
    },
    {
      "cell_type": "code",
      "execution_count": 45,
      "metadata": {
        "id": "OL_agBnCQw4Q"
      },
      "outputs": [
        {
          "name": "stdout",
          "output_type": "stream",
          "text": [
            "LENGTH OF x_train is  21000\n",
            "LENGTH OF x_test is  9000\n",
            "LENGTH OF y_train is  21000\n",
            "LENGTH OF y_test is  9000\n"
          ]
        }
      ],
      "source": [
        "print(\"LENGTH OF x_train is \", len(x_train_final))\n",
        "print(\"LENGTH OF x_test is \", len(x_test_final))\n",
        "print(\"LENGTH OF y_train is \", len(y_train))\n",
        "print(\"LENGTH OF y_test is \", len(y_test))"
      ]
    },
    {
      "cell_type": "markdown",
      "metadata": {
        "id": "k18U6Z_DQw4Q"
      },
      "source": [
        "#### Scale the data using a StandardScaler"
      ]
    },
    {
      "cell_type": "code",
      "execution_count": 46,
      "metadata": {
        "id": "RVZ9buwiQw4R"
      },
      "outputs": [],
      "source": [
        "# standardscaler = StandardScaler()\n",
        "# x_train_final = standardscaler.fit_transform(x_train_final)\n",
        "# x_test_final = standardscaler.transform(x_test_final)\n",
        "\n",
        "# print('xTrain after scalar is\\n', x_train_final)\n",
        "# print('-----------------------------------------------------------------')\n",
        "# print('xTest after scalar is\\n', x_test_final)"
      ]
    },
    {
      "cell_type": "code",
      "execution_count": 47,
      "metadata": {
        "id": "pzTI_4POQw4R"
      },
      "outputs": [],
      "source": [
        "from sklearn.metrics import accuracy_score, precision_score, recall_score, f1_score,confusion_matrix\n",
        "\n",
        "def genrateClassificationReport(_x_train,_x_test, _y_train, _y_test):\n",
        "    # create an empty dataframe to store the scores\n",
        "    results_df = pd.DataFrame(columns=['Classifier', 'Accuracy', 'Precision', 'Recall', 'F1-score'])\n",
        "    used_classifiers = { 'KNN':{'clf':KNeighborsClassifier(),'result':{}},'DT':{'clf':DecisionTreeClassifier(),'result':{}},'RF':{'clf':RandomForestClassifier(),'result':{}},}\n",
        "    final_result = {'classifier':used_classifiers, 'results_df':results_df}\n",
        "   \n",
        "    # loop through each classifier and calculate the scores\n",
        "    for key in used_classifiers.keys():\n",
        "        clf = used_classifiers[key]['clf']\n",
        "        clf.fit(_x_train, _y_train)\n",
        "        y_pred = clf.predict(_x_test)\n",
        "        accuracy = accuracy_score(_y_test, y_pred)\n",
        "        precision = precision_score(_y_test, y_pred,average='weighted')\n",
        "        recall = recall_score(_y_test, y_pred,average='weighted')\n",
        "        f1 = f1_score(_y_test, y_pred,average='weighted')\n",
        "        cm = confusion_matrix(_y_test, y_pred)\n",
        "\n",
        "        \n",
        "        result = {'Classifier': key, 'Accuracy': accuracy, 'Precision': precision, \n",
        "                                        'Recall': recall, 'F1-score': f1, 'cm':cm}\n",
        "        used_classifiers[key]['result'] = result\n",
        "        used_classifiers[key]['y_pred'] = y_pred\n",
        "        final_result['results_df'] = final_result['results_df'].append(result,ignore_index=True)\n",
        "\n",
        "    # print the results table\n",
        "    return final_result"
      ]
    },
    {
      "cell_type": "code",
      "execution_count": 48,
      "metadata": {
        "id": "Ka1jdxxOQw4R"
      },
      "outputs": [],
      "source": [
        "results_obj = genrateClassificationReport(x_train_final,x_test_final, y_train, y_test)"
      ]
    },
    {
      "cell_type": "code",
      "execution_count": 49,
      "metadata": {
        "id": "CxXOsk2bQw4R"
      },
      "outputs": [
        {
          "data": {
            "text/html": [
              "<div>\n",
              "<style scoped>\n",
              "    .dataframe tbody tr th:only-of-type {\n",
              "        vertical-align: middle;\n",
              "    }\n",
              "\n",
              "    .dataframe tbody tr th {\n",
              "        vertical-align: top;\n",
              "    }\n",
              "\n",
              "    .dataframe thead th {\n",
              "        text-align: right;\n",
              "    }\n",
              "</style>\n",
              "<table border=\"1\" class=\"dataframe\">\n",
              "  <thead>\n",
              "    <tr style=\"text-align: right;\">\n",
              "      <th></th>\n",
              "      <th>Classifier</th>\n",
              "      <th>Accuracy</th>\n",
              "      <th>Precision</th>\n",
              "      <th>Recall</th>\n",
              "      <th>F1-score</th>\n",
              "      <th>cm</th>\n",
              "    </tr>\n",
              "  </thead>\n",
              "  <tbody>\n",
              "    <tr>\n",
              "      <th>0</th>\n",
              "      <td>KNN</td>\n",
              "      <td>0.795889</td>\n",
              "      <td>0.788464</td>\n",
              "      <td>0.795889</td>\n",
              "      <td>0.784923</td>\n",
              "      <td>[[962, 342, 235, 148, 95], [240, 1087, 264, 12...</td>\n",
              "    </tr>\n",
              "    <tr>\n",
              "      <th>1</th>\n",
              "      <td>DT</td>\n",
              "      <td>0.914889</td>\n",
              "      <td>0.916385</td>\n",
              "      <td>0.914889</td>\n",
              "      <td>0.910424</td>\n",
              "      <td>[[1189, 299, 136, 105, 53], [83, 1672, 30, 22,...</td>\n",
              "    </tr>\n",
              "    <tr>\n",
              "      <th>2</th>\n",
              "      <td>RF</td>\n",
              "      <td>0.922667</td>\n",
              "      <td>0.923218</td>\n",
              "      <td>0.922667</td>\n",
              "      <td>0.919538</td>\n",
              "      <td>[[1273, 268, 123, 76, 42], [90, 1657, 33, 33, ...</td>\n",
              "    </tr>\n",
              "  </tbody>\n",
              "</table>\n",
              "</div>"
            ],
            "text/plain": [
              "  Classifier  Accuracy  Precision    Recall  F1-score  \\\n",
              "0        KNN  0.795889   0.788464  0.795889  0.784923   \n",
              "1         DT  0.914889   0.916385  0.914889  0.910424   \n",
              "2         RF  0.922667   0.923218  0.922667  0.919538   \n",
              "\n",
              "                                                  cm  \n",
              "0  [[962, 342, 235, 148, 95], [240, 1087, 264, 12...  \n",
              "1  [[1189, 299, 136, 105, 53], [83, 1672, 30, 22,...  \n",
              "2  [[1273, 268, 123, 76, 42], [90, 1657, 33, 33, ...  "
            ]
          },
          "execution_count": 49,
          "metadata": {},
          "output_type": "execute_result"
        }
      ],
      "source": [
        "results_obj['results_df']"
      ]
    },
    {
      "cell_type": "code",
      "execution_count": 50,
      "metadata": {
        "id": "h1nk9XVlQw4R"
      },
      "outputs": [
        {
          "data": {
            "text/plain": [
              "(9000,)"
            ]
          },
          "execution_count": 50,
          "metadata": {},
          "output_type": "execute_result"
        }
      ],
      "source": [
        "x_train_final.shape\n",
        "results_obj['classifier']['RF']['y_pred'].shape"
      ]
    },
    {
      "cell_type": "code",
      "execution_count": 51,
      "metadata": {
        "id": "I4QzzAjzQw4S"
      },
      "outputs": [],
      "source": [
        "def generateRUCAUCCurve(cm,_y_test,_y_pred):\n",
        "    #Compute the correct recall and true positive rate for each class\n",
        "    cr_list = []\n",
        "    tpr_list = []\n",
        "    n_classes = 5\n",
        "    for i in range(n_classes):\n",
        "        tp = cm[i, i]\n",
        "        fn = np.sum(cm[i, :]) - tp\n",
        "        tpr = tp / (tp + fn)\n",
        "        cr = tp / np.sum(_y_test == i)\n",
        "        cr_list.append(cr)\n",
        "        tpr_list.append(tpr)\n",
        "\n",
        "    # Plot the RUC curve for each class\n",
        "    plt.figure()\n",
        "    plt.plot(tpr_list, cr_list, color='darkorange', lw=2)\n",
        "    plt.plot([0, 1], [0, 1], color='navy', lw=2, linestyle='--')\n",
        "    plt.xlabel('True Positive Rate')\n",
        "    plt.ylabel('Correct Recall')\n",
        "    plt.title('RUC Curve')\n",
        "    plt.show()\n",
        "\n",
        "    # Compute the AUC-RUC for each class and average them\n",
        "    auc_list = []\n",
        "    for i in range(n_classes):\n",
        "        fpr, tpr, thresholds = roc_curve(_y_test == i, _y_pred[:, i])\n",
        "        auc_val = auc(tpr, fpr)\n",
        "        auc_list.append(auc_val)\n",
        "    avg_auc_ruc = np.mean(auc_list)\n",
        "    print('Average AUC-RUC:', avg_auc_ruc)"
      ]
    },
    {
      "cell_type": "code",
      "execution_count": 52,
      "metadata": {
        "id": "7ZEkbHOWQw4S"
      },
      "outputs": [],
      "source": [
        "import numpy as np\n",
        "import matplotlib.pyplot as plt\n",
        "import seaborn as sns\n",
        "from sklearn.metrics import confusion_matrix, f1_score, accuracy_score\n",
        "\n",
        "def plot_scores(cm,y_true, y_pred, name):\n",
        "\n",
        "    # Compute F1 score\n",
        "    f1 = f1_score(y_true, y_pred, average='weighted')\n",
        "    \n",
        "    # Compute accuracy score\n",
        "    acc = accuracy_score(y_true, y_pred)\n",
        "    \n",
        "    # Set up figure\n",
        "    fig, axs = plt.subplots(1, 3, figsize=(15, 6),gridspec_kw={'width_ratios': [3, 1, 1]})\n",
        "    \n",
        "    # Plot confusion matrix\n",
        "    axs[0].set_title('Confusion matrix of ' + name)\n",
        "    sns.heatmap(cm, annot=True, cmap='Blues', fmt='d', cbar=False, ax=axs[0])\n",
        "    axs[0].set_xlabel('Predicted labels')\n",
        "    axs[0].set_ylabel('True labels')\n",
        "    axs[0].set_xticklabels(np.arange(1, cm.shape[1] + 1))\n",
        "    axs[0].set_yticklabels(np.arange(1, cm.shape[0] + 1))\n",
        "    \n",
        "    \n",
        "    # Plot F1 score\n",
        "    axs[1].bar(['F1'], [f1], color='b')\n",
        "    axs[1].set_title( 'F1 score of '+name + f': {f1:.2f}')\n",
        "    axs[1].set_ylim([0, 1])\n",
        "    \n",
        "    # Plot accuracy score\n",
        "    axs[2].bar(['Accuracy'], [acc], color='r')\n",
        "    axs[2].set_title('Accuracy of ' +name + f': {acc:.2f}')\n",
        "    axs[2].set_ylim([0, 1])\n",
        "    \n",
        "    # Adjust layout and show plot\n",
        "    fig.tight_layout()\n",
        "    plt.show()\n",
        "\n"
      ]
    },
    {
      "cell_type": "code",
      "execution_count": 53,
      "metadata": {
        "id": "XPy0nvlXQw4S"
      },
      "outputs": [
        {
          "data": {
            "image/png": "[encoded data removed]",
            "text/plain": [
              "<Figure size 1080x432 with 3 Axes>"
            ]
          },
          "metadata": {
            "needs_background": "light"
          },
          "output_type": "display_data"
        }
      ],
      "source": [
        "plot_scores(results_obj['classifier']['RF']['result']['cm'],y_test,results_obj['classifier']['RF']['y_pred'],\"Random Forest\")"
      ]
    },
    {
      "cell_type": "code",
      "execution_count": 54,
      "metadata": {
        "id": "wMpLYBSiQw4S"
      },
      "outputs": [
        {
          "data": {
            "image/png": "[encoded data removed]",
            "text/plain": [
              "<Figure size 1080x432 with 3 Axes>"
            ]
          },
          "metadata": {
            "needs_background": "light"
          },
          "output_type": "display_data"
        }
      ],
      "source": [
        "plot_scores(results_obj['classifier']['DT']['result']['cm'],y_test,results_obj['classifier']['DT']['y_pred'],\"Decison Tree\")"
      ]
    },
    {
      "cell_type": "code",
      "execution_count": 55,
      "metadata": {
        "id": "S5zvdlPIQw4T"
      },
      "outputs": [
        {
          "data": {
            "image/png": "[encoded data removed]",
            "text/plain": [
              "<Figure size 1080x432 with 3 Axes>"
            ]
          },
          "metadata": {
            "needs_background": "light"
          },
          "output_type": "display_data"
        }
      ],
      "source": [
        "plot_scores(results_obj['classifier']['KNN']['result']['cm'],y_test,results_obj['classifier']['KNN']['y_pred'],\"KNN\")"
      ]
    },
    {
      "cell_type": "code",
      "execution_count": 56,
      "metadata": {
        "id": "O6Pa_QzGQw4T"
      },
      "outputs": [
        {
          "data": {
            "text/plain": [
              "array([[1273,  268,  123,   76,   42],\n",
              "       [  90, 1657,   33,   33,   11],\n",
              "       [   7,    2, 1792,    6,    5],\n",
              "       [   0,    0,    0, 1773,    0],\n",
              "       [   0,    0,    0,    0, 1809]], dtype=int64)"
            ]
          },
          "execution_count": 56,
          "metadata": {},
          "output_type": "execute_result"
        }
      ],
      "source": [
        "results_obj['classifier']['RF']['result']['cm']"
      ]
    },
    {
      "cell_type": "code",
      "execution_count": 57,
      "metadata": {
        "id": "eFPCvCTnQw4T"
      },
      "outputs": [],
      "source": [
        "def plotConfusionMatrixAsHeatMap(cm,name):\n",
        "\n",
        "    # Plot the confusion matrix using seaborn heatmap\n",
        "    sns.heatmap(cm, annot=True, fmt='d', cmap='Blues', cbar=True,\n",
        "                xticklabels=['class 1', 'class 2', 'class 3','class 4','class 5'],\n",
        "                yticklabels=['class 1', 'class 2', 'class 3','class 4','class 5'])\n",
        "    plt.xlabel('Predicted Labels')\n",
        "    plt.ylabel('True Labels')\n",
        "    plt.title('Confusion Matrix of ' + name)\n",
        "    plt.show()"
      ]
    },
    {
      "cell_type": "code",
      "execution_count": 58,
      "metadata": {
        "id": "kkyclIydQw4T"
      },
      "outputs": [],
      "source": [
        "def plotF1Scores(_ytest,_y_pred,name):\n",
        "    import matplotlib.pyplot as plt\n",
        "    from sklearn.metrics import f1_score\n",
        "\n",
        "    # Compute F1 scores\n",
        "    f1_scores = f1_score(_ytest, _y_pred, average=None)\n",
        "\n",
        "    # Plot F1 scores\n",
        "    plt.bar(range(len(f1_scores)), f1_scores)\n",
        "    plt.xticks(range(len(f1_scores)), labels=[\"Class 1\", \"Class 2\", \"Class 3\",\"Class 4\",\"Class 5\"])\n",
        "    plt.xlabel(\"Class\")\n",
        "    plt.ylabel(\"F1 score\")\n",
        "    plt.title(\"F1 Score of \" + name)\n",
        "    plt.show()\n"
      ]
    },
    {
      "cell_type": "code",
      "execution_count": 59,
      "metadata": {
        "id": "sIiyZ-PuQw4T"
      },
      "outputs": [
        {
          "data": {
            "image/png": "[encoded data removed]",
            "text/plain": [
              "<Figure size 432x288 with 1 Axes>"
            ]
          },
          "metadata": {
            "needs_background": "light"
          },
          "output_type": "display_data"
        }
      ],
      "source": [
        "plotF1Scores(y_test, results_obj['classifier']['RF']['y_pred'],\"Random Forest\")"
      ]
    },
    {
      "cell_type": "code",
      "execution_count": 60,
      "metadata": {
        "id": "OGnajIJaQw4T"
      },
      "outputs": [],
      "source": [
        "def genrateROCAUCCurve(_y_test,_y_pred,name):\n",
        "    # Convert multi-class labels to binary format\n",
        "    y_test_bin = label_binarize(_y_test, classes=[1, 2, 3, 4, 5])\n",
        "    y_pred_bin = label_binarize(_y_pred, classes=[1, 2, 3, 4, 5])\n",
        "\n",
        "    # Compute ROC curve and ROC area for each class\n",
        "    num_classes = 5\n",
        "    fpr = dict()\n",
        "    tpr = dict()\n",
        "    roc_auc = dict()\n",
        "    for i in range(0,num_classes):\n",
        "        fpr[i], tpr[i], _ = roc_curve(y_test_bin[:, i], y_pred_bin[:, i])\n",
        "        roc_auc[i] = auc(fpr[i], tpr[i])\n",
        "\n",
        "    # Compute precision-recall curve and area for each class\n",
        "    precision = dict()\n",
        "    recall = dict()\n",
        "    prc_auc = dict()\n",
        "    for i in range(0,num_classes):\n",
        "        precision[i], recall[i], _ = precision_recall_curve(y_test_bin[:, i], y_pred_bin[:, i])\n",
        "        prc_auc[i] = auc(recall[i], precision[i])\n",
        "    \n",
        "    fig, axs = plt.subplots(1, 2, figsize=(15, 6))\n",
        "    # Plot ROC curves\n",
        "    for i in range(0,num_classes):\n",
        "        axs[0].plot(fpr[i], tpr[i], label='ROC curve (class %d) (area = %0.2f)' % (i+1, roc_auc[i]))\n",
        "    axs[0].plot([0, 1], [0, 1], 'k--')\n",
        "    axs[0].set_xlim([0.0, 1.0])\n",
        "    axs[0].set_ylim([0.0, 1.05])\n",
        "    axs[0].set_xlabel('False Positive Rate')\n",
        "    axs[0].set_ylabel('True Positive Rate')\n",
        "    axs[0].set_title('Receiver operating characteristic of ' + name)\n",
        "    axs[0].legend(loc=\"lower right\")\n",
        "\n",
        "    # Plot precision-recall curves\n",
        "    for i in range(0,num_classes):\n",
        "        axs[1].plot(recall[i], precision[i], label='PR curve (class %d) (area = %0.2f)' % (i+1, prc_auc[i]))\n",
        "    axs[1].set_xlim([0.0, 1.0])\n",
        "    axs[1].set_ylim([0.0, 1.05])\n",
        "    axs[1].set_xlabel('Recall')\n",
        "    axs[1].set_ylabel('Precision')\n",
        "    axs[1].set_title('Precision-recall curve of ' + name)\n",
        "    axs[1].legend(loc=\"lower left\")\n",
        "\n",
        "    plt.show()"
      ]
    },
    {
      "cell_type": "code",
      "execution_count": 62,
      "metadata": {
        "id": "GEwTP67wQw4U"
      },
      "outputs": [],
      "source": [
        "# generateRUCAUCCurve(results_obj['classifier']['RF']['result']['cm'],y_test,results_obj['classifier']['RF']['y_pred'])"
      ]
    },
    {
      "cell_type": "code",
      "execution_count": 63,
      "metadata": {
        "id": "Q5dZJkIfQw4U"
      },
      "outputs": [
        {
          "data": {
            "image/png": "[encoded data removed]",
            "text/plain": [
              "<Figure size 1080x432 with 2 Axes>"
            ]
          },
          "metadata": {
            "needs_background": "light"
          },
          "output_type": "display_data"
        }
      ],
      "source": [
        "genrateROCAUCCurve(y_test, results_obj['classifier']['RF']['y_pred'],\"Random Forest\")"
      ]
    },
    {
      "cell_type": "code",
      "execution_count": 64,
      "metadata": {
        "id": "NMfRqWSCQw4U"
      },
      "outputs": [
        {
          "data": {
            "image/png": "[encoded data removed]",
            "text/plain": [
              "<Figure size 1080x432 with 2 Axes>"
            ]
          },
          "metadata": {
            "needs_background": "light"
          },
          "output_type": "display_data"
        }
      ],
      "source": [
        "genrateROCAUCCurve(y_test, results_obj['classifier']['DT']['y_pred'],\"Decision Tree\")"
      ]
    },
    {
      "cell_type": "code",
      "execution_count": 65,
      "metadata": {
        "id": "c5EK_0gVQw4U"
      },
      "outputs": [
        {
          "data": {
            "image/png": "[encoded data removed]",
            "text/plain": [
              "<Figure size 1080x432 with 2 Axes>"
            ]
          },
          "metadata": {
            "needs_background": "light"
          },
          "output_type": "display_data"
        }
      ],
      "source": [
        "genrateROCAUCCurve(y_test, results_obj['classifier']['DT']['y_pred'],\"K-Nearest Neighbors\")"
      ]
    },
    {
      "cell_type": "code",
      "execution_count": 66,
      "metadata": {
        "id": "oBTqwqH7Qw4V"
      },
      "outputs": [],
      "source": [
        "def plotGraph(grid_search, name):\n",
        "    mean_test_scores = grid_search.cv_results_['mean_test_score']\n",
        "    params = grid_search.cv_results_['params']\n",
        "    param_grid = grid_search.param_grid\n",
        "    param_names = list(param_grid.keys())\n",
        "    combinations = [str(params[i][name]) for i in range(len(params)) for name in param_names]\n",
        "    plt.plot(combinations, mean_test_scores)\n",
        "    plt.xlabel('Hyperparameter combinations')\n",
        "    plt.ylabel('Mean test score')\n",
        "    plt.title(name + ' Grid Search CV Results')\n",
        "    plt.xticks(rotation=90)\n",
        "    plt.show()"
      ]
    },
    {
      "cell_type": "code",
      "execution_count": 67,
      "metadata": {
        "id": "RT5pQXFLQw4V"
      },
      "outputs": [],
      "source": [
        "def report(grid_search,_x_test,_y_test, name):\n",
        "    print(\"GidSearchCV REPORT OF \"+ name)\n",
        "    # Print the best parameters and accuracy score\n",
        "    print(\"Best parameters: \", grid_search.best_params_)\n",
        "    print(\"Accuracy score: \", grid_search.best_score_)\n",
        "    print('Mean test score: ', np.mean(grid_search.cv_results_['mean_test_score']) )\n",
        "    print('Standard deviation test score: ', np.mean(grid_search.cv_results_['std_test_score']))\n",
        "\n",
        "    # Make predictions on the test data using the best estimator found by GridSearchCV\n",
        "    _y_pred = grid_search.best_estimator_.predict(_x_test)\n",
        "    # Compute the error range by subtracting actual from predicted values\n",
        "    error_range = np.abs(_y_test - _y_pred)\n",
        "\n",
        "    # Print the error range\n",
        "    print('Error range: ',  np.mean(error_range))\n",
        "\n",
        "    # Calculate the accuracy for each class using classification_report\n",
        "    accuracy_report = classification_report(_y_test, _y_pred)\n",
        "    # Print the accuracy report\n",
        "    print('classification report: \\n', accuracy_report)"
      ]
    },
    {
      "cell_type": "code",
      "execution_count": 68,
      "metadata": {
        "id": "NxZPSReMQw4V"
      },
      "outputs": [],
      "source": [
        "\n",
        "def grid_search_rf(_x_train,_x_test, _y_train, _y_test):\n",
        "    param_grid = {\n",
        "    'n_estimators': [5, 10, 20],\n",
        "    'max_depth': [5, 10,None],\n",
        "    'min_samples_split': [2, 5, 10]\n",
        "    }\n",
        "    rf = RandomForestClassifier()\n",
        "    grid_search = GridSearchCV(rf, param_grid=param_grid, cv=50)\n",
        "    grid_search.fit(_x_train, _y_train)\n",
        "    return grid_search\n",
        "   "
      ]
    },
    {
      "cell_type": "code",
      "execution_count": 69,
      "metadata": {
        "id": "TMzXuhEYQw4W"
      },
      "outputs": [],
      "source": [
        "def grid_search_dt(_x_train,_x_test, _y_train, _y_test):\n",
        "    param_grid = {\n",
        "    'max_depth': [5, 10, 20, None],\n",
        "    'min_samples_split': [2, 5, 10],\n",
        "    'min_samples_leaf': [1, 2, 4]\n",
        "}\n",
        "    dt = DecisionTreeClassifier()\n",
        "   # Perform grid search with cross-validation\n",
        "    grid_search = GridSearchCV(dt, param_grid=param_grid, cv=50)\n",
        "    grid_search.fit(_x_train, _y_train)\n",
        "    return grid_search\n",
        "    \n",
        "    "
      ]
    },
    {
      "cell_type": "code",
      "execution_count": 70,
      "metadata": {
        "id": "LOvSjbIYQw4W"
      },
      "outputs": [],
      "source": [
        "def grid_search_knn(_x_train,_x_test, _y_train, _y_test):\n",
        "    # Define the parameter grid for the grid search\n",
        "    param_grid = {\n",
        "        'n_neighbors': [3, 5, 7, 9],\n",
        "        'weights': ['uniform', 'distance'],\n",
        "        'p': [1, 2]\n",
        "    }\n",
        "    # Create a K-nearest neighbors classifier\n",
        "    knn = KNeighborsClassifier()\n",
        "    # Perform grid search with cross-validation\n",
        "    grid_search = GridSearchCV(knn, param_grid=param_grid, cv=50)\n",
        "    y_pred  = grid_search.fit(_x_train, _y_train)\n",
        "    return grid_search\n",
        "    "
      ]
    },
    {
      "cell_type": "code",
      "execution_count": 71,
      "metadata": {
        "id": "ZC5DKU1xQw4W"
      },
      "outputs": [],
      "source": [
        "def predict(name_rf,name_dt,name_knn):\n",
        "    print('\\n$'+name_rf+'\\n')\n",
        "    rfGS = grid_search_rf(x_train_final,x_test_final, y_train, y_test)\n",
        "    print('\\n'+name_dt+'\\n')\n",
        "    dtGS = grid_search_dt(x_train_final, x_test_final,y_train, y_test)\n",
        "    print('\\n'+name_knn+'\\n')\n",
        "    knnGS = grid_search_knn(x_train_final, x_test_final, y_train, y_test)\n",
        "    return rfGS,dtGS,knnGS\n",
        "  "
      ]
    },
    {
      "cell_type": "code",
      "execution_count": 72,
      "metadata": {
        "id": "96-WN7k6Qw4W"
      },
      "outputs": [
        {
          "name": "stdout",
          "output_type": "stream",
          "text": [
            "\n",
            "$RANDOM FOREST\n",
            "\n",
            "\n",
            "DECESSION TREE\n",
            "\n",
            "\n",
            "K-NEAREST NEIGHBOUR\n",
            "\n"
          ]
        }
      ],
      "source": [
        "name_dt = \"DECESSION TREE\"\n",
        "name_rf = \"RANDOM FOREST\"\n",
        "name_knn = \"K-NEAREST NEIGHBOUR\"\n",
        "rfGS,dtGS,knnGS = predict(name_rf,name_dt,name_knn)"
      ]
    },
    {
      "cell_type": "code",
      "execution_count": 73,
      "metadata": {
        "id": "rv_e53ZKQw4X"
      },
      "outputs": [
        {
          "name": "stdout",
          "output_type": "stream",
          "text": [
            "GidSearchCV REPORT OF RANDOM FOREST\n",
            "Best parameters:  {'max_depth': None, 'min_samples_split': 2, 'n_estimators': 20}\n",
            "Accuracy score:  0.9176190476190474\n",
            "Mean test score:  0.5678977072310406\n",
            "Standard deviation test score:  0.020130291472545064\n",
            "Error range:  0.13011111111111112\n",
            "classification report: \n",
            "               precision    recall  f1-score   support\n",
            "\n",
            "           1       0.92      0.73      0.81      1782\n",
            "           2       0.87      0.90      0.88      1824\n",
            "           3       0.91      0.98      0.95      1812\n",
            "           4       0.94      1.00      0.97      1773\n",
            "           5       0.97      1.00      0.98      1809\n",
            "\n",
            "    accuracy                           0.92      9000\n",
            "   macro avg       0.92      0.92      0.92      9000\n",
            "weighted avg       0.92      0.92      0.92      9000\n",
            "\n"
          ]
        }
      ],
      "source": [
        "report(rfGS,x_test_final,y_test, name_rf)"
      ]
    },
    {
      "cell_type": "code",
      "execution_count": 74,
      "metadata": {
        "id": "kMLK5fakQw4X"
      },
      "outputs": [
        {
          "name": "stdout",
          "output_type": "stream",
          "text": [
            "GidSearchCV REPORT OF DECESSION TREE\n",
            "Best parameters:  {'max_depth': None, 'min_samples_leaf': 1, 'min_samples_split': 2}\n",
            "Accuracy score:  0.9126190476190476\n",
            "Mean test score:  0.5872592592592594\n",
            "Standard deviation test score:  0.019994294171341673\n",
            "Error range:  0.14755555555555555\n",
            "classification report: \n",
            "               precision    recall  f1-score   support\n",
            "\n",
            "           1       0.93      0.67      0.78      1782\n",
            "           2       0.85      0.91      0.88      1824\n",
            "           3       0.91      0.99      0.95      1812\n",
            "           4       0.93      1.00      0.97      1773\n",
            "           5       0.96      1.00      0.98      1809\n",
            "\n",
            "    accuracy                           0.92      9000\n",
            "   macro avg       0.92      0.91      0.91      9000\n",
            "weighted avg       0.92      0.92      0.91      9000\n",
            "\n"
          ]
        }
      ],
      "source": [
        "report(dtGS,x_test_final,y_test, name_dt)"
      ]
    },
    {
      "cell_type": "code",
      "execution_count": 75,
      "metadata": {
        "id": "7ob5t1rJQw4X"
      },
      "outputs": [
        {
          "name": "stdout",
          "output_type": "stream",
          "text": [
            "GidSearchCV REPORT OF K-NEAREST NEIGHBOUR\n",
            "Best parameters:  {'n_neighbors': 3, 'p': 1, 'weights': 'distance'}\n",
            "Accuracy score:  0.9025714285714287\n",
            "Mean test score:  0.833264880952381\n",
            "Standard deviation test score:  0.014543785902551381\n",
            "Error range:  0.1618888888888889\n",
            "classification report: \n",
            "               precision    recall  f1-score   support\n",
            "\n",
            "           1       0.94      0.63      0.76      1782\n",
            "           2       0.84      0.91      0.87      1824\n",
            "           3       0.89      0.99      0.94      1812\n",
            "           4       0.92      1.00      0.96      1773\n",
            "           5       0.96      1.00      0.98      1809\n",
            "\n",
            "    accuracy                           0.91      9000\n",
            "   macro avg       0.91      0.91      0.90      9000\n",
            "weighted avg       0.91      0.91      0.90      9000\n",
            "\n"
          ]
        }
      ],
      "source": [
        "report(knnGS,x_test_final,y_test, name_knn)"
      ]
    },
    {
      "cell_type": "code",
      "execution_count": 76,
      "metadata": {
        "id": "ZvnubK3WQw4Y"
      },
      "outputs": [],
      "source": [
        "def printCvResults(grid):\n",
        "    results = pd.DataFrame(grid.cv_results_)\n",
        "    results = results[['params', 'mean_test_score']]\n",
        "    # print(results)\n",
        "    # results = results.sort_values(by='mean_test_score', ascending=False)\n",
        "    # print(results)\n",
        "    plt.plot(results.index, results['mean_test_score'])\n",
        "    plt.xticks(results.index)\n",
        "    plt.xlabel('Iteration')\n",
        "    plt.ylabel('Mean Test Accuracy')\n",
        "    plt.title('Grid Search Results')\n",
        "    plt.show()"
      ]
    },
    {
      "cell_type": "code",
      "execution_count": 84,
      "metadata": {
        "id": "0p-wKdPAQw4Y"
      },
      "outputs": [],
      "source": [
        "# printCvResults(rfGS)"
      ]
    },
    {
      "cell_type": "code",
      "execution_count": 85,
      "metadata": {
        "id": "ghWe_HbyQw4Y"
      },
      "outputs": [],
      "source": [
        "# mean_test_scores = rfGS.cv_results_['mean_test_score']\n",
        "# params = rfGS.cv_results_['params']\n",
        "# param_grid = rfGS.param_grid\n",
        "# param_names = list(param_grid.keys())\n",
        "# combinations = [str(params[i][name]) for i in range(len(params)) for name in param_names]\n"
      ]
    },
    {
      "cell_type": "code",
      "execution_count": 87,
      "metadata": {
        "id": "ieB-fpGVQw4Z"
      },
      "outputs": [],
      "source": [
        "# plt.plot(rfGS.cv_results_['mean_test_score'])\n",
        "# plt.xlabel('Trial')\n",
        "# plt.ylabel('Accuracy')\n",
        "# plt.title('Grid Search CV Results')\n",
        "# plt.show()"
      ]
    },
    {
      "cell_type": "code",
      "execution_count": 88,
      "metadata": {
        "id": "wrCuaPUCQw4Z"
      },
      "outputs": [],
      "source": [
        "# param_names = list(param_grid.keys())\n",
        "# param_values = [list(x.values()) for x in rfGS.cv_results_['params']]\n",
        "\n",
        "# # Plot the accuracy for each trial with the corresponding parameter values\n",
        "# for i in range(len(param_names)):\n",
        "#     plt.plot(param_values, rfGS.cv_results_['mean_test_score'], '-o', label=param_names[i] + ' values')\n",
        "# plt.legend()\n",
        "# plt.xlabel('Parameter values')\n",
        "# plt.ylabel('Accuracy')\n",
        "# plt.title('Grid Search CV Results')\n",
        "# plt.show()"
      ]
    },
    {
      "cell_type": "code",
      "execution_count": 89,
      "metadata": {
        "id": "SSTO-XY4Qw4Z"
      },
      "outputs": [],
      "source": [
        "\n",
        "# plt.plot(combinations, mean_test_scores)\n",
        "# plt.xlabel('Hyperparameter combinations')\n",
        "# plt.ylabel('Mean test score')\n",
        "# plt.title(name_rf + ' Grid Search CV Results')\n",
        "# plt.xticks(rotation=90)\n",
        "# plt.show()"
      ]
    },
    {
      "cell_type": "code",
      "execution_count": 90,
      "metadata": {
        "id": "A4M_awMiQw4Z"
      },
      "outputs": [],
      "source": [
        "# plotGraph(rfGS,name_rf)\n",
        "# plotGraph(dtGS,name_dt)\n",
        "# plotGraph(knnGS,name_knn)"
      ]
    },
    {
      "cell_type": "code",
      "execution_count": null,
      "metadata": {
        "id": "Ogn3CG1QQw4a"
      },
      "outputs": [],
      "source": [
        "# # Make prediction without parameters using K-Fold and Cross-Validation.\n",
        "# mlModels = []\n",
        "# mlModels.append(('KNN', KNeighborsClassifier()))\n",
        "# mlModels.append(('Random Forest', RandomForestClassifier()))\n",
        "# mlModels.append(('Decision Tree', DecisionTreeClassifier()))\n",
        "\n",
        "# models = []\n",
        "# results = []\n",
        "\n",
        "# for name, model in mlModels:\n",
        "#   kFold = KFold(n_splits=25, shuffle = True, random_state=123) \n",
        "#   cvsResults = cross_val_score(model, x_train, y_train, cv=kFold, scoring='accuracy')\n",
        "#   results.append(cvsResults)\n",
        "#   models.append(name)\n",
        "#   print(\"%s: %f (%f)\" % (name, cvsResults.mean(), cvsResults.std()))"
      ]
    },
    {
      "cell_type": "code",
      "execution_count": null,
      "metadata": {
        "id": "4t-_r6WIQw4a"
      },
      "outputs": [],
      "source": [
        "# # Visualisation for the K-Fold and Cross-Validation\n",
        "# fig = plt.figure()\n",
        "# fig.suptitle('Algorithm Comparison')\n",
        "# ax = fig.add_subplot(111)\n",
        "# plt.boxplot(results)\n",
        "# ax.set_xticklabels(models)\n",
        "# plt.show()"
      ]
    },
    {
      "cell_type": "markdown",
      "metadata": {
        "id": "WDloFmtRQw4a"
      },
      "source": [
        "DOWNLAD AS HTML COMMANDS"
      ]
    },
    {
      "cell_type": "code",
      "execution_count": null,
      "metadata": {
        "id": "xDr9s5VwQw4a"
      },
      "outputs": [],
      "source": [
        "# !pip install nbconvert\n",
        "# jupyter nbconvert --to html u2195157_dissertation.ipynb"
      ]
    }
  ],
  "metadata": {
    "colab": {
      "provenance": []
    },
    "kernelspec": {
      "display_name": "base",
      "language": "python",
      "name": "python3"
    },
    "language_info": {
      "codemirror_mode": {
        "name": "ipython",
        "version": 3
      },
      "file_extension": ".py",
      "mimetype": "text/x-python",
      "name": "python",
      "nbconvert_exporter": "python",
      "pygments_lexer": "ipython3",
      "version": "3.9.7"
    },
    "orig_nbformat": 4
  },
  "nbformat": 4,
  "nbformat_minor": 0
}
